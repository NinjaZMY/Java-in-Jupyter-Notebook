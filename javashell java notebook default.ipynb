{
 "cells": [
  {
   "cell_type": "code",
   "execution_count": 6,
   "metadata": {
    "vscode": {
     "languageId": "java"
    }
   },
   "outputs": [
    {
     "name": "stdout",
     "output_type": "stream",
     "text": [
      "               Welcome to the testfield \n",
      "Hello World!\n",
      "hello"
     ]
    }
   ],
   "source": [
    "class Solution {\n",
    "    public static String shortestCommonSupersequence(String str1, String str2) {\n",
    "        \n",
    "        return \"hello\";\n",
    "    }\n",
    "}\n",
    "\n",
    "public class Main {\n",
    "  public static void main(String[] args) {\n",
    "    System.out.println(\"Hello World!\");\n",
    "  }\n",
    "}\n",
    "System.out.println(\"               Welcome to the testfield \");\n",
    "String[] args;\n",
    "Main.main(args);\n",
    "String s1=\"h\",s2=\"b\";\n",
    "System.out.print(Solution.shortestCommonSupersequence(s1,s2));"
   ]
  },
  {
   "cell_type": "code",
   "execution_count": null,
   "metadata": {
    "vscode": {
     "languageId": "java"
    }
   },
   "outputs": [
    {
     "name": "stdout",
     "output_type": "stream",
     "text": [
      "7\t777\tGary\n",
      "5\t555\tSquidward\n",
      "3\t123\tPatrick\n",
      "1\t321\tSandy\n",
      "0\t100\tSpongebob\n"
     ]
    }
   ],
   "source": [
    "import java.util.*;\n",
    "\n",
    "public class Main{\n",
    "\t\n",
    "    public static void main(String args[]) {    \t\n",
    "\n",
    "    \t// Hashtable = A data structure that stores unique keys to values ex.<Integer, String>\n",
    "    \t//\t\t\t   Each key/value pair is known as an Entry\n",
    "    \t//\t\t\t   FAST insertion, look up, deletion of key/value pairs\n",
    "    \t// \t\t\t   Not ideal for small data sets, great with large data sets\n",
    "    \t\n",
    "    \t// hashing = Takes a key and computes an integer (formula will vary based on key & data type)\n",
    "    \t//\t\t       In a Hashtable, we use the hash % capacity to calculate an index number \n",
    "    \t\n",
    "    \t//\t\t\tkey.hashCode() % capacity = index  \n",
    "    \t\n",
    "    \t// bucket = an indexed storage location for one or more Entries\n",
    "    \t//\t            can store multiple Entries in case of a collision (linked similarly a LinkedList)\n",
    "    \t\n",
    "    \t// collision = hash function generates the same index for more than one key\n",
    "    \t//\t\t\tless collisions = more efficiency\n",
    "    \t\n",
    "    \t// Runtime complexity: Best Case O(1)\n",
    "    \t//                                     Worst Case O(n)\n",
    "\n",
    "    \tHashtable<Integer, String> table = new Hashtable<>(10);\n",
    "    \t\n",
    "    \ttable.put(100, \"Spongebob\");\n",
    "    \ttable.put(123, \"Patrick\");\n",
    "    \ttable.put(321, \"Sandy\");\n",
    "    \ttable.put(555, \"Squidward\");\n",
    "    \ttable.put(777, \"Gary\");\n",
    "    \t  \t\n",
    "    \tfor(Integer key : table.keySet()) {\n",
    "    \t\tSystem.out.println(key.hashCode() % 10 + \"\\t\" + key + \"\\t\" + table.get(key));\n",
    "    \t}\n",
    "    }\n",
    "}\n",
    "Main.main(args);"
   ]
  },
  {
   "cell_type": "code",
   "execution_count": 1,
   "metadata": {
    "vscode": {
     "languageId": "java"
    }
   },
   "outputs": [
    {
     "name": "stdout",
     "output_type": "stream",
     "text": [
      "Hello, World!\n"
     ]
    }
   ],
   "source": [
    "System.out.println(\"Hello, World!\");"
   ]
  }
 ],
 "metadata": {
  "kernelspec": {
   "display_name": "Java",
   "language": "java",
   "name": "java"
  },
  "language_info": {
   "codemirror_mode": "java",
   "file_extension": ".jshell",
   "mimetype": "text/x-java-source",
   "name": "Java",
   "pygments_lexer": "java",
   "version": "17.0.11+7-LTS-207"
  }
 },
 "nbformat": 4,
 "nbformat_minor": 2
}
